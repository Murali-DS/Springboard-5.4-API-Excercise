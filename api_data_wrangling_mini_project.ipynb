{
 "cells": [
  {
   "cell_type": "markdown",
   "metadata": {},
   "source": [
    "This exercise will require you to pull some data from the Qunadl API. Qaundl is currently the most widely used aggregator of financial market data."
   ]
  },
  {
   "cell_type": "markdown",
   "metadata": {},
   "source": [
    "As a first step, you will need to register a free account on the http://www.quandl.com website."
   ]
  },
  {
   "cell_type": "markdown",
   "metadata": {},
   "source": [
    "After you register, you will be provided with a unique API key, that you should store:"
   ]
  },
  {
   "cell_type": "code",
   "execution_count": 85,
   "metadata": {
    "collapsed": true
   },
   "outputs": [],
   "source": [
    "# Store the API key as a string - according to PEP8, constants are always named in all upper case\n",
    "API_KEY = 'roLuuNewDNpvTRzVkdsa'"
   ]
  },
  {
   "cell_type": "markdown",
   "metadata": {},
   "source": [
    "Qaundl has a large number of data sources, but, unfortunately, most of them require a Premium subscription. Still, there are also a good number of free datasets."
   ]
  },
  {
   "cell_type": "markdown",
   "metadata": {},
   "source": [
    "For this mini project, we will focus on equities data from the Frankfurt Stock Exhange (FSE), which is available for free. We'll try and analyze the stock prices of a company called Carl Zeiss Meditec, which manufactures tools for eye examinations, as well as medical lasers for laser eye surgery: https://www.zeiss.com/meditec/int/home.html. The company is listed under the stock ticker AFX_X."
   ]
  },
  {
   "cell_type": "markdown",
   "metadata": {},
   "source": [
    "You can find the detailed Quandl API instructions here: https://docs.quandl.com/docs/time-series"
   ]
  },
  {
   "cell_type": "markdown",
   "metadata": {},
   "source": [
    "While there is a dedicated Python package for connecting to the Quandl API, we would prefer that you use the *requests* package, which can be easily downloaded using *pip* or *conda*. You can find the documentation for the package here: http://docs.python-requests.org/en/master/ "
   ]
  },
  {
   "cell_type": "markdown",
   "metadata": {},
   "source": [
    "Finally, apart from the *requests* package, you are encouraged to not use any third party Python packages, such as *pandas*, and instead focus on what's available in the Python Standard Library (the *collections* module might come in handy: https://pymotw.com/3/collections/).\n",
    "Also, since you won't have access to DataFrames, you are encouraged to us Python's native data structures - preferably dictionaries, though some questions can also be answered using lists.\n",
    "You can read more on these data structures here: https://docs.python.org/3/tutorial/datastructures.html"
   ]
  },
  {
   "cell_type": "markdown",
   "metadata": {},
   "source": [
    "Keep in mind that the JSON responses you will be getting from the API map almost one-to-one to Python's dictionaries. Unfortunately, they can be very nested, so make sure you read up on indexing dictionaries in the documentation provided above."
   ]
  },
  {
   "cell_type": "code",
   "execution_count": 86,
   "metadata": {
    "collapsed": true
   },
   "outputs": [],
   "source": [
    "# First, import the relevant modules\n",
    "import collections\n",
    "import requests"
   ]
  },
  {
   "cell_type": "code",
   "execution_count": 87,
   "metadata": {},
   "outputs": [
    {
     "name": "stdout",
     "output_type": "stream",
     "text": [
      "<class 'str'>\n"
     ]
    }
   ],
   "source": [
    "# Now, call the Quandl API and pull out a small sample of the data (only one day) to get a glimpse\n",
    "# into the JSON structure that will be returned\n",
    "url = 'https://www.quandl.com/api/v3/datasets/FSE/AFX_X.json?api_key=roLuuNewDNpvTRzVkdsa&start_date=2018-10-22&end_date=2018-10-23'    \n",
    "r = requests.get(url)\n",
    "print(type(r.text))"
   ]
  },
  {
   "cell_type": "code",
   "execution_count": 88,
   "metadata": {
    "collapsed": true
   },
   "outputs": [],
   "source": [
    "# Inspect the JSON structure of the object you created, and take note of how nested it is,\n",
    "# as well as the overall structure\n"
   ]
  },
  {
   "cell_type": "markdown",
   "metadata": {},
   "source": [
    "These are your tasks for this mini project:\n",
    "\n",
    "1. Collect data from the Franfurt Stock Exchange, for the ticker AFX_X, for the whole year 2017 (keep in mind that the date format is YYYY-MM-DD).\n",
    "2. Convert the returned JSON object into a Python dictionary.\n",
    "3. Calculate what the highest and lowest opening prices were for the stock in this period.\n",
    "4. What was the largest change in any one day (based on High and Low price)?\n",
    "5. What was the largest change between any two days (based on Closing Price)?\n",
    "6. What was the average daily trading volume during this year?\n",
    "7. (Optional) What was the median trading volume during this year. (Note: you may need to implement your own function for calculating the median.)"
   ]
  },
  {
   "cell_type": "markdown",
   "metadata": {
    "collapsed": true
   },
   "source": [
    "# 1. Collect data from the Franfurt Stock Exchange, for the ticker AFX_X, for the whole year 2017 (keep in mind that the date format is YYYY-MM-DD)."
   ]
  },
  {
   "cell_type": "code",
   "execution_count": 89,
   "metadata": {
    "collapsed": true
   },
   "outputs": [],
   "source": [
    "start_date = '2017-01-01'\n",
    "end_date = '2017-12-31'\n",
    "url_base_string = 'https://www.quandl.com/api/v3/datasets/FSE/AFX_X.json?'\n",
    "url = url_base_string + 'api_key=' + API_KEY + '&start_date=' + start_date + '&end_date=' + end_date\n",
    "r = requests.get(url)"
   ]
  },
  {
   "cell_type": "markdown",
   "metadata": {},
   "source": [
    "# 2. Convert the return JSON object into a python dictionary"
   ]
  },
  {
   "cell_type": "code",
   "execution_count": 90,
   "metadata": {},
   "outputs": [
    {
     "name": "stdout",
     "output_type": "stream",
     "text": [
      "<class 'dict'>\n"
     ]
    }
   ],
   "source": [
    "full_data = r.json()\n",
    "print(type(full_data))"
   ]
  },
  {
   "cell_type": "markdown",
   "metadata": {},
   "source": [
    "# 3. Calculate what the highest and lowest opening prices were for the stock in this period."
   ]
  },
  {
   "cell_type": "code",
   "execution_count": 91,
   "metadata": {},
   "outputs": [
    {
     "name": "stdout",
     "output_type": "stream",
     "text": [
      "['Date', 'Open', 'High', 'Low', 'Close', 'Change', 'Traded Volume', 'Turnover', 'Last Price of the Day', 'Daily Traded Units', 'Daily Turnover']\n",
      "['2017-12-27', 51.45, 51.89, 50.76, 51.82, None, 57452.0, 2957018.0, None, None, None]\n",
      "Highest price of the Carl Zeiss Meditec stock in 2017 is Euro 53.54\n",
      "Lowest price of the Carl Zeiss Meditec stock in 2017 is Euro 33.62\n"
     ]
    }
   ],
   "source": [
    "#print(full_data)\n",
    "#print(type(full_data['dataset']['data']))\n",
    "print((full_data['dataset']['column_names']))\n",
    "#print((full_data['dataset']['data']))\n",
    "print((full_data['dataset']['data'][2]))\n",
    "\n",
    "#daily_high_prices = [x[2] for x in full_data['dataset']['data']]\n",
    "daily_high_prices = list(map(lambda x:x[2], full_data['dataset']['data']))\n",
    "highest_price = max(daily_high_prices)\n",
    "\n",
    "daily_low_prices = [x[3] for x in full_data['dataset']['data']]\n",
    "lowest_price = min(daily_low_prices)\n",
    "\n",
    "print('Highest price of the Carl Zeiss Meditec stock in 2017 is Euro ' + str(highest_price))\n",
    "print('Lowest price of the Carl Zeiss Meditec stock in 2017 is Euro ' + str(lowest_price))"
   ]
  },
  {
   "cell_type": "markdown",
   "metadata": {
    "collapsed": true
   },
   "source": [
    "# 4. What was the largest change in any one day (based on High and Low price)?"
   ]
  },
  {
   "cell_type": "code",
   "execution_count": 96,
   "metadata": {
    "scrolled": true
   },
   "outputs": [
    {
     "name": "stdout",
     "output_type": "stream",
     "text": [
      "Largest Change in the price of the Carl Zeiss Meditec stock in 2017 is Euro 1.69\n"
     ]
    }
   ],
   "source": [
    "def price_difference(x,y):\n",
    "    if ((x is None) or (y is None)):\n",
    "        difference = None\n",
    "    else:\n",
    "        difference = abs(x-y)\n",
    "    return difference\n",
    "\n",
    "daily_change = list(map(lambda x: price_difference(x[1],x[4]), full_data['dataset']['data']))\n",
    "largest_change = round(max(daily_changes),2)\n",
    "print('Largest Change in the price of the Carl Zeiss Meditec stock in 2017 is Euro ' + str(largest_change))\n",
    "\n",
    "#daily_change = list(map(lambda x: None if ((x[4] is None) or (x[1] is None)) else abs(x[4]-x[1]), full_data['dataset']['data']))\n",
    "\n"
   ]
  },
  {
   "cell_type": "markdown",
   "metadata": {},
   "source": [
    "# 5. What was the largest change between any two days (based on Closing Price)?"
   ]
  },
  {
   "cell_type": "code",
   "execution_count": 101,
   "metadata": {},
   "outputs": [
    {
     "name": "stdout",
     "output_type": "stream",
     "text": [
      "Largest Change between two days in the price of the Carl Zeiss Meditec stock in 2017 is Euro 3.15\n"
     ]
    }
   ],
   "source": [
    "close_price = [x[4] for x in full_data['dataset']['data']]\n",
    "two_day_difference = [price_difference(m,n) for m,n in zip(close_price[:-2], close_price[2:])]\n",
    "largest_two_day_difference = round(max(two_day_difference), 2)\n",
    "print('Largest Change between two days in the price of the Carl Zeiss Meditec stock in 2017 is Euro ' + str(largest_two_day_difference))"
   ]
  },
  {
   "cell_type": "markdown",
   "metadata": {},
   "source": [
    "# 6. What was the average daily trading volume during this year?"
   ]
  },
  {
   "cell_type": "code",
   "execution_count": 107,
   "metadata": {},
   "outputs": [
    {
     "name": "stdout",
     "output_type": "stream",
     "text": [
      "Average trade volume of Carl Zeiss Meditec stock in 2017 is 89124.0\n"
     ]
    }
   ],
   "source": [
    "trade_vol = [x[6] for x in full_data['dataset']['data']]\n",
    "avg_trade_vol = round(sum(trade_vol)/len(trade_vol),0)\n",
    "print('Average trade volume of Carl Zeiss Meditec stock in 2017 is ' + str(avg_trade_vol))"
   ]
  },
  {
   "cell_type": "markdown",
   "metadata": {},
   "source": [
    "# 7. What was the median trading volume during this year."
   ]
  },
  {
   "cell_type": "code",
   "execution_count": 111,
   "metadata": {},
   "outputs": [
    {
     "name": "stdout",
     "output_type": "stream",
     "text": [
      "Median trade volume of Carl Zeiss Meditec stock in 2017 is 76600.0\n"
     ]
    }
   ],
   "source": [
    "trade_vol_sorted = sorted(trade_vol)\n",
    "mid_point = round(len(trade_vol)/2)\n",
    "med_trade_vol = trade_vol_sorted[mid_point]\n",
    "print('Median trade volume of Carl Zeiss Meditec stock in 2017 is ' + str(med_trade_vol))"
   ]
  }
 ],
 "metadata": {
  "kernelspec": {
   "display_name": "Python 3",
   "language": "python",
   "name": "python3"
  },
  "language_info": {
   "codemirror_mode": {
    "name": "ipython",
    "version": 3
   },
   "file_extension": ".py",
   "mimetype": "text/x-python",
   "name": "python",
   "nbconvert_exporter": "python",
   "pygments_lexer": "ipython3",
   "version": "3.6.1"
  }
 },
 "nbformat": 4,
 "nbformat_minor": 2
}
